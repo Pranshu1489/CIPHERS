{
  "nbformat": 4,
  "nbformat_minor": 0,
  "metadata": {
    "colab": {
      "provenance": []
    },
    "kernelspec": {
      "name": "python3",
      "display_name": "Python 3"
    },
    "language_info": {
      "name": "python"
    }
  },
  "cells": [
    {
      "cell_type": "markdown",
      "source": [
        "# **Caesar cipher**"
      ],
      "metadata": {
        "id": "67mkXgSH8S8w"
      }
    },
    {
      "cell_type": "code",
      "execution_count": 2,
      "metadata": {
        "id": "xWklnyOI5myg"
      },
      "outputs": [],
      "source": [
        "\n",
        "'''This script uses dictionaries instead of 'chr()' & 'ord()' function'''\n",
        "\n",
        "# Dictionary to lookup the index of alphabets\n",
        "dict1 = {'A': 1, 'B': 2, 'C': 3, 'D': 4, 'E': 5,\n",
        "         'F': 6, 'G': 7, 'H': 8, 'I': 9, 'J': 10,\n",
        "         'K': 11, 'L': 12, 'M': 13, 'N': 14, 'O': 15,\n",
        "         'P': 16, 'Q': 17, 'R': 18, 'S': 19, 'T': 20,\n",
        "         'U': 21, 'V': 22, 'W': 23, 'X': 24, 'Y': 25, 'Z': 26}\n",
        "\n",
        "# Dictionary to lookup alphabets corresponding to the index after shift\n",
        "dict2 = {0: 'Z', 1: 'A', 2: 'B', 3: 'C', 4: 'D', 5: 'E',\n",
        "         6: 'F', 7: 'G', 8: 'H', 9: 'I', 10: 'J',\n",
        "         11: 'K', 12: 'L', 13: 'M', 14: 'N', 15: 'O',\n",
        "         16: 'P', 17: 'Q', 18: 'R', 19: 'S', 20: 'T',\n",
        "         21: 'U', 22: 'V', 23: 'W', 24: 'X', 25: 'Y'}\n"
      ]
    },
    {
      "cell_type": "markdown",
      "source": [
        "# Function to encrypt the string according to the shift provided"
      ],
      "metadata": {
        "id": "FIYVC19W8c7Z"
      }
    },
    {
      "cell_type": "code",
      "source": [
        "def encrypt(message, shift):\n",
        "    cipher = ''\n",
        "    for letter in message:\n",
        "        # checks for space\n",
        "        if(letter != ' '):\n",
        "            # looks up the dictionary and adds the shift to the index\n",
        "            num = (dict1[letter] + shift) % 26\n",
        "            # looks up the second dictionary for the\n",
        "            # shifted alphabets and adds them\n",
        "            cipher += dict2[num]\n",
        "        else:\n",
        "            # adds space\n",
        "            cipher += ' '\n",
        "\n",
        "    return cipher"
      ],
      "metadata": {
        "id": "r0bptGNx8aS-"
      },
      "execution_count": null,
      "outputs": []
    },
    {
      "cell_type": "markdown",
      "source": [
        "# Function to decrypt the string according to the shift provided\n"
      ],
      "metadata": {
        "id": "nh6jSVDl8heB"
      }
    },
    {
      "cell_type": "code",
      "source": [
        "def decrypt(message, shift):\n",
        "    decipher = ''\n",
        "    for letter in message:\n",
        "        # checks for space\n",
        "        if(letter != ' '):\n",
        "            # looks up the dictionary and subtracts the shift to the index\n",
        "            num = (dict1[letter] - shift + 26) % 26\n",
        "            # looks up the second dictionary for the\n",
        "            # shifted alphabets and adds them\n",
        "            decipher += dict2[num]\n",
        "        else:\n",
        "            # adds space\n",
        "            decipher += ' '\n",
        "\n",
        "    return decipher"
      ],
      "metadata": {
        "id": "Cv9aEhsF8hNf"
      },
      "execution_count": null,
      "outputs": []
    },
    {
      "cell_type": "code",
      "source": [
        "def main():\n",
        "    #message = 'My Name Is Pranshu Verma'\n",
        "    message=input('Enter the message: ')\n",
        "    print ('Original Message: ',message)\n",
        "    shift = int(input('enter the shifting number: '))\n",
        "    encrypted = encrypt(message.upper(), shift)\n",
        "    print('Message after encrypting:- ',encrypted)\n",
        "\n",
        "    message = encrypted\n",
        "    #shift = 13\n",
        "    result = decrypt(message.upper(), shift)\n",
        "    print('Message after decrypting:- ', result)\n",
        "\n",
        "\n"
      ],
      "metadata": {
        "id": "hQTjRoif6IFq"
      },
      "execution_count": 25,
      "outputs": []
    },
    {
      "cell_type": "code",
      "source": [
        "# Executes the main function\n",
        "if __name__ == '__main__':\n",
        "    main()"
      ],
      "metadata": {
        "colab": {
          "base_uri": "https://localhost:8080/",
          "height": 0
        },
        "id": "YXN5m3yC6J3u",
        "outputId": "391bde4e-2d6a-4194-cdf8-58413b9f228d"
      },
      "execution_count": 26,
      "outputs": [
        {
          "output_type": "stream",
          "name": "stdout",
          "text": [
            "Enter the message: MY  NAME IS PRANSHU VERMA\n",
            "Original Message:  MY  NAME IS PRANSHU VERMA\n",
            "enter the shifting number: 12\n",
            "Message after encrypting:-  YK  ZMYQ UE BDMZETG HQDYM\n",
            "Message after decrypting:-  MY  NAME IS PRANSHU VERMA\n"
          ]
        }
      ]
    }
  ]
}