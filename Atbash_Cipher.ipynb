{
  "nbformat": 4,
  "nbformat_minor": 0,
  "metadata": {
    "colab": {
      "provenance": []
    },
    "kernelspec": {
      "name": "python3",
      "display_name": "Python 3"
    },
    "language_info": {
      "name": "python"
    }
  },
  "cells": [
    {
      "cell_type": "markdown",
      "source": [
        "# **Atbash Cipher**"
      ],
      "metadata": {
        "id": "oTorW7O5NiDJ"
      }
    },
    {
      "cell_type": "code",
      "execution_count": 1,
      "metadata": {
        "id": "RW4zsV1-Lier"
      },
      "outputs": [],
      "source": [
        "# This script uses dictionaries to lookup various alphabets\n",
        "lookup_table = {'A': 'Z', 'B': 'Y', 'C': 'X', 'D': 'W', 'E': 'V',\n",
        "                'F': 'U', 'G': 'T', 'H': 'S', 'I': 'R', 'J': 'Q',\n",
        "                'K': 'P', 'L': 'O', 'M': 'N', 'N': 'M', 'O': 'L',\n",
        "                'P': 'K', 'Q': 'J', 'R': 'I', 'S': 'H', 'T': 'G',\n",
        "                'U': 'F', 'V': 'E', 'W': 'D', 'X': 'C', 'Y': 'B', 'Z': 'A'}"
      ]
    },
    {
      "cell_type": "code",
      "source": [
        "def atbash(message):\n",
        "    cipher = ''\n",
        "    for letter in message:\n",
        "        # checks for space\n",
        "        if(letter != ' '):\n",
        "            # adds the corresponding letter from the lookup_table\n",
        "            cipher += lookup_table[letter]\n",
        "        else:\n",
        "            # adds space\n",
        "            cipher += ' '\n",
        "\n",
        "    return cipher"
      ],
      "metadata": {
        "id": "5nzL3Z2DNXPo"
      },
      "execution_count": 2,
      "outputs": []
    },
    {
      "cell_type": "code",
      "source": [
        "def main():\n",
        "  message=input('Enter the message: ')\n",
        "  print ('Original Message: ',message)\n",
        "  encrypted = atbash(message.upper())\n",
        "  print('Message after encrypting:- ',encrypted)\n",
        "  decrypted = atbash(encrypted)\n",
        "  print('Message after decrypting:- ',decrypted)\n"
      ],
      "metadata": {
        "id": "naiSYMz9NpiM"
      },
      "execution_count": 4,
      "outputs": []
    },
    {
      "cell_type": "code",
      "source": [
        "# Executes the main function\n",
        "if __name__ == '__main__':\n",
        "    main()"
      ],
      "metadata": {
        "colab": {
          "base_uri": "https://localhost:8080/"
        },
        "id": "pGNFYmr4NsPp",
        "outputId": "fea71b79-4264-410a-f588-b9a4c3ff7cb5"
      },
      "execution_count": 5,
      "outputs": [
        {
          "output_type": "stream",
          "name": "stdout",
          "text": [
            "Enter the message: my name is pranshu\n",
            "Original Message:  my name is pranshu\n",
            "Message after encrypting:-  NB MZNV RH KIZMHSF\n",
            "Message after decrypting:-  MY NAME IS PRANSHU\n"
          ]
        }
      ]
    }
  ]
}