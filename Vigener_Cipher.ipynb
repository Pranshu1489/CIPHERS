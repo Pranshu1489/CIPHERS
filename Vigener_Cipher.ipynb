{
  "nbformat": 4,
  "nbformat_minor": 0,
  "metadata": {
    "colab": {
      "provenance": []
    },
    "kernelspec": {
      "name": "python3",
      "display_name": "Python 3"
    },
    "language_info": {
      "name": "python"
    }
  },
  "cells": [
    {
      "cell_type": "markdown",
      "source": [
        "# **Vigener Cipher**"
      ],
      "metadata": {
        "id": "ObMJm8fb_yp_"
      }
    },
    {
      "cell_type": "code",
      "execution_count": 2,
      "metadata": {
        "id": "7Y6wgkTi_jky"
      },
      "outputs": [],
      "source": [
        "# Dictionary to lookup the index of alphabets\n",
        "dict1 = {'A': 0, 'B': 1, 'C': 2, 'D': 3, 'E': 4,\n",
        "         'F': 5, 'G': 6, 'H': 7, 'I': 8, 'J': 9,\n",
        "         'K': 10, 'L': 11, 'M': 12, 'N': 13, 'O': 14,\n",
        "         'P': 15, 'Q': 16, 'R': 17, 'S': 18, 'T': 19,\n",
        "         'U': 20, 'V': 21, 'W': 22, 'X': 23, 'Y': 24, 'Z': 25}\n",
        "\n",
        "dict2={0:'A',1:'B',2:'C',3:'D',4:'E',\n",
        "       5:'F',6:'G',7:'H',8:'I',9:'J',\n",
        "       10:'K',11:'L',12:'M',13:'N',14:'O',\n",
        "       15:'P',16:'Q',17:'R',18:'S',19:'T',\n",
        "       20:'U',21:'V',22:'W',23:'X',24:'Y',25:'Z'}"
      ]
    },
    {
      "cell_type": "markdown",
      "source": [
        "Function to generates the key in a cyclic manner until it's length isn' equal to the length of original text"
      ],
      "metadata": {
        "id": "P6DWUUfO_9YV"
      }
    },
    {
      "cell_type": "code",
      "source": [
        "def generate_key(message,key):\n",
        "\tx=len(message)\n",
        "\ti=0\n",
        "\twhile True:\n",
        "\t\tif x==i:\n",
        "\t\t\ti=0\n",
        "\t\tif len(key)==len(message):\n",
        "\t\t\tbreak\n",
        "\t\tkey+=key[i]\n",
        "\t\ti+=1\n",
        "\treturn key\n"
      ],
      "metadata": {
        "id": "mEdznX-H_tgf"
      },
      "execution_count": 3,
      "outputs": []
    },
    {
      "cell_type": "markdown",
      "source": [
        "function returns the encrypted text generated with the help of the key"
      ],
      "metadata": {
        "id": "RhhX6VgUATc3"
      }
    },
    {
      "cell_type": "code",
      "source": [
        "def cipherText(message,key_new):\n",
        "\tcipher_text=''\n",
        "\ti=0\n",
        "\tfor letter in message:\n",
        "\t\tif letter==' ':\n",
        "\t\t\tcipher_text+=' '\n",
        "\t\telse:\n",
        "\t\t\tx=(dict1[letter]+dict1[key_new[i]])%26\n",
        "\t\t\ti+=1\n",
        "\t\t\tcipher_text+=dict2[x]\n",
        "\treturn cipher_text"
      ],
      "metadata": {
        "id": "_nUCg_56_r7S"
      },
      "execution_count": 4,
      "outputs": []
    },
    {
      "cell_type": "markdown",
      "source": [
        "function decrypts the encrypted text and returns the original text"
      ],
      "metadata": {
        "id": "NO-feOsSAci0"
      }
    },
    {
      "cell_type": "code",
      "source": [
        "def originalText(cipher_text,key_new):\n",
        "\tor_txt=''\n",
        "\ti=0\n",
        "\tfor letter in cipher_text:\n",
        "\t\tif letter==' ':\n",
        "\t\t\tor_txt+=' '\n",
        "\t\telse:\n",
        "\t\t\tx=(dict1[letter]-dict1[key_new[i]]+26)%26\n",
        "\t\t\ti+=1\n",
        "\t\t\tor_txt+=dict2[x]\n",
        "\treturn or_txt\n"
      ],
      "metadata": {
        "id": "8TnjiuuU_ppC"
      },
      "execution_count": 5,
      "outputs": []
    },
    {
      "cell_type": "code",
      "source": [
        "def main():\n",
        "  message=input('Enter the message: ')\n",
        "  key=input('Enter the key: ')\n",
        "  key_new=generate_key(message,key)\n",
        "\n",
        "  print('Original Message: ',message)\n",
        "\n",
        "  encrypted_text=cipherText(message.upper(),key_new.upper())\n",
        "  decrypted_text=originalText(encrypted_text.upper(),key_new.upper())\n",
        "  print(\"Encrypted Text using\", key.upper(), \"as key is = \"+encrypted_text)\n",
        "  print(\"Decrypted Text using\", key.upper(), \"as key is = \"+decrypted_text)"
      ],
      "metadata": {
        "id": "hiNudFvQ_m0m"
      },
      "execution_count": 15,
      "outputs": []
    },
    {
      "cell_type": "code",
      "source": [
        "#Executes the main function\n",
        "if __name__ == '__main__':\n",
        "\tmain()"
      ],
      "metadata": {
        "colab": {
          "base_uri": "https://localhost:8080/"
        },
        "id": "AwF91cc0_lhp",
        "outputId": "6ccb1017-6a58-4ebc-adf4-71fb62a80e5e"
      },
      "execution_count": 16,
      "outputs": [
        {
          "output_type": "stream",
          "name": "stdout",
          "text": [
            "Enter the message: my name is pranshu verma\n",
            "Enter the key: spy\n",
            "Original Message:  my name is pranshu verma\n",
            "Encrypted Text using SPY as key is = EN LSBC AH NJPLKWS NTPEP\n",
            "Decrypted Text using SPY as key is = MY NAME IS PRANSHU VERMA\n"
          ]
        }
      ]
    }
  ]
}