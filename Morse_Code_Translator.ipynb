{
  "nbformat": 4,
  "nbformat_minor": 0,
  "metadata": {
    "colab": {
      "provenance": []
    },
    "kernelspec": {
      "name": "python3",
      "display_name": "Python 3"
    },
    "language_info": {
      "name": "python"
    }
  },
  "cells": [
    {
      "cell_type": "markdown",
      "source": [
        "# **Morse Code Translator**"
      ],
      "metadata": {
        "id": "cOf7kiKXIasY"
      }
    },
    {
      "cell_type": "code",
      "execution_count": 1,
      "metadata": {
        "id": "sjsk9nGgGiFK"
      },
      "outputs": [],
      "source": [
        "# Dictionary representing the morse code chart\n",
        "MORSE_CODE_DICT = {'A': '.-', 'B': '-...',\n",
        "                   'C': '-.-.', 'D': '-..', 'E': '.',\n",
        "                   'F': '..-.', 'G': '--.', 'H': '....',\n",
        "                   'I': '..', 'J': '.---', 'K': '-.-',\n",
        "                   'L': '.-..', 'M': '--', 'N': '-.',\n",
        "                   'O': '---', 'P': '.--.', 'Q': '--.-',\n",
        "                   'R': '.-.', 'S': '...', 'T': '-',\n",
        "                   'U': '..-', 'V': '...-', 'W': '.--',\n",
        "                   'X': '-..-', 'Y': '-.--', 'Z': '--..',\n",
        "                   '1': '.----', '2': '..---', '3': '...--',\n",
        "                   '4': '....-', '5': '.....', '6': '-....',\n",
        "                   '7': '--...', '8': '---..', '9': '----.',\n",
        "                   '0': '-----', ',': '--..--', '.': '.-.-.-',\n",
        "                   '?': '..--..', '/': '-..-.', '-': '-....-',\n",
        "                   '(': '-.--.', ')': '-.--.-'}"
      ]
    },
    {
      "cell_type": "markdown",
      "source": [
        "Function to encrypt the string according to the morse code chart"
      ],
      "metadata": {
        "id": "vRpnNz3pKWNu"
      }
    },
    {
      "cell_type": "code",
      "source": [
        "def encrypt(message):\n",
        "    cipher = ''\n",
        "    for letter in message:\n",
        "        if letter != ' ':\n",
        "            cipher += MORSE_CODE_DICT[letter] + ' '\n",
        "        else:\n",
        "            cipher += ' '\n",
        "    return cipher"
      ],
      "metadata": {
        "id": "43usG-AFG5fM"
      },
      "execution_count": 2,
      "outputs": []
    },
    {
      "cell_type": "markdown",
      "source": [
        "Function to decrypt the string from morse to english"
      ],
      "metadata": {
        "id": "2ubHvgoTK5Kf"
      }
    },
    {
      "cell_type": "code",
      "source": [
        "\n",
        "def decrypt(message):\n",
        "    message += ' '\n",
        "    decipher = ''\n",
        "    citext = ''\n",
        "    for letter in message:\n",
        "        if(letter != ' '):\n",
        "            i = 0\n",
        "            citext += letter\n",
        "        else:\n",
        "            i += 1\n",
        "            if i == 2:\n",
        "                decipher += ' '\n",
        "            else:\n",
        "                decipher += list(MORSE_CODE_DICT.keys()\n",
        "                                 )[list(MORSE_CODE_DICT.values()).index(citext)]\n",
        "                citext = ''\n",
        "    return decipher"
      ],
      "metadata": {
        "id": "ZvQ70FeTG0ow"
      },
      "execution_count": 3,
      "outputs": []
    },
    {
      "cell_type": "code",
      "source": [
        "def main():\n",
        "    message=input('Enter the message: ')\n",
        "    print ('Original Message: ',message)\n",
        "    encrypted = encrypt(message.upper())\n",
        "    print('Message after encrypting:- ',encrypted)\n",
        "    decrypted = decrypt(encrypted)\n",
        "    print('Message after decrypting:- ',decrypted)\n",
        "\n"
      ],
      "metadata": {
        "id": "HY4mKgeXGtP0"
      },
      "execution_count": 7,
      "outputs": []
    },
    {
      "cell_type": "code",
      "source": [
        "# Executes the main function\n",
        "if __name__ == '__main__':\n",
        "    main()\n",
        "\n"
      ],
      "metadata": {
        "colab": {
          "base_uri": "https://localhost:8080/"
        },
        "id": "Vncjt4MKGoWp",
        "outputId": "cc6c302c-bcb7-41e6-f77c-4ceae699ef29"
      },
      "execution_count": 8,
      "outputs": [
        {
          "output_type": "stream",
          "name": "stdout",
          "text": [
            "Enter the message: my name is pranshu verma\n",
            "Original Message:  my name is pranshu verma\n",
            "Message after encrypting:-  -- -.--  -. .- -- .  .. ...  .--. .-. .- -. ... .... ..-  ...- . .-. -- .- \n",
            "Message after decrypting:-  MY NAME IS PRANSHU VERMA \n"
          ]
        }
      ]
    }
  ]
}